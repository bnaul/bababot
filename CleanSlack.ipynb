{
 "cells": [
  {
   "cell_type": "code",
   "execution_count": null,
   "id": "20100cf6-1b36-48cc-a6cb-7d510db0910d",
   "metadata": {
    "tags": []
   },
   "outputs": [],
   "source": [
    "from glob import glob\n",
    "import pandas as pd\n",
    "\n",
    "files = glob(\"/Users/brett/Downloads/Tati's Amoebae Slack export Feb 24 2016 - Jan 5 2024/*/20*.json\")\n",
    "files[:10]"
   ]
  },
  {
   "cell_type": "code",
   "execution_count": null,
   "id": "2a5b0dd1-78a8-4b58-ab25-2bc6adc7b78f",
   "metadata": {
    "tags": []
   },
   "outputs": [],
   "source": [
    "users = pd.read_json(\"/Users/brett/Downloads/Tati's Amoebae Slack export Feb 24 2016 - Jan 5 2024/users.json\").set_index(\"id\").name\n",
    "users"
   ]
  },
  {
   "cell_type": "code",
   "execution_count": null,
   "id": "2f74a090-c5e4-4678-bf5b-a0d0d6c29d0a",
   "metadata": {
    "tags": []
   },
   "outputs": [],
   "source": [
    "df = pd.concat([pd.read_json(f).assign(channel=f.split(\"/\")[-2]) for f in files])[['text', 'user', 'channel']].astype(\"string[pyarrow]\")\n",
    "df['user_channel'] = df['channel'].str.cat(df['user'], sep=';')\n",
    "df['text'] += '\\n'\n",
    "df"
   ]
  },
  {
   "cell_type": "code",
   "execution_count": null,
   "id": "9226c2d8-caf9-4dd7-9aa9-6c889b5521e4",
   "metadata": {
    "tags": []
   },
   "outputs": [],
   "source": [
    "for id, name in users.items():\n",
    "    df[\"text\"] = df.text.str.replace(f\"<@{id}>\", f\"@{name}\")"
   ]
  },
  {
   "cell_type": "code",
   "execution_count": null,
   "id": "491ec366-42ef-440e-a0b9-1f42cbfe5c96",
   "metadata": {},
   "outputs": [],
   "source": [
    "convos = df.groupby([(df['user_channel'] != df['user_channel'].shift(1)).astype(\"bool\").cumsum(), \"user\", \"channel\"]).text.sum().reset_index()\n",
    "convos"
   ]
  },
  {
   "cell_type": "code",
   "execution_count": null,
   "id": "05388f67-3ef8-4102-9ac4-8878c37f68b4",
   "metadata": {
    "tags": []
   },
   "outputs": [],
   "source": [
    "import json\n",
    "import numpy as np\n",
    "from tqdm.auto import tqdm\n",
    "\n",
    "target_user = \"U0NSX3SCT\"\n",
    "prompt = \"You are John Flinchbaugh talking to his friends on Slack. You are a Dallas Mavericks and Texas Rangers fan, you like music and have a very silly non-sensical Slack persona.\"\n",
    "user_inds, = np.where(convos['user'].fillna(\"\") == target_user)\n",
    "with open(\"all_messages.jsonl\", \"w\") as f:\n",
    "    for i in tqdm(user_inds):\n",
    "        json.dump({\n",
    "            \"messages\": [\n",
    "                {\"role\": \"system\", \"content\": prompt}, \n",
    "                {\"role\": \"user\", \"content\": convos.text.iloc[i - 1] if convos.channel.iloc[i - 1] == convos.channel.iloc[i] else \"\"}, \n",
    "                {\"role\": \"assistant\", \"content\": convos.text.iloc[i]}\n",
    "            ]\n",
    "        }, f)\n",
    "        f.write(\"\\n\")"
   ]
  },
  {
   "cell_type": "code",
   "execution_count": null,
   "id": "8963e411-8224-4bc6-9c2b-e40744dac5ab",
   "metadata": {
    "tags": []
   },
   "outputs": [],
   "source": [
    "\n",
    "from openai import OpenAI\n",
    "client = OpenAI()\n",
    "\n",
    "message_file = client.files.create(\n",
    "  file=open(\"all_messages.jsonl\", \"rb\"),\n",
    "  purpose=\"fine-tune\"\n",
    ")"
   ]
  },
  {
   "cell_type": "code",
   "execution_count": null,
   "id": "c5317b4b-a8f5-47ae-99d8-fd01818d1a6e",
   "metadata": {
    "tags": []
   },
   "outputs": [],
   "source": [
    "job = client.fine_tuning.jobs.create(\n",
    "  training_file=message_file.id,\n",
    "  model=\"gpt-3.5-turbo\"\n",
    ")"
   ]
  },
  {
   "cell_type": "markdown",
   "id": "e5563347-c52f-4577-8e13-2692e9b905f2",
   "metadata": {
    "tags": []
   },
   "source": [
    "job"
   ]
  }
 ],
 "metadata": {
  "kernelspec": {
   "display_name": "Python 3 (ipykernel)",
   "language": "python",
   "name": "python3"
  },
  "language_info": {
   "codemirror_mode": {
    "name": "ipython",
    "version": 3
   },
   "file_extension": ".py",
   "mimetype": "text/x-python",
   "name": "python",
   "nbconvert_exporter": "python",
   "pygments_lexer": "ipython3",
   "version": "3.11.6"
  }
 },
 "nbformat": 4,
 "nbformat_minor": 5
}
